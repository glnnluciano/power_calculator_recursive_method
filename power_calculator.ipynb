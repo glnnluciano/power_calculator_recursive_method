{
 "cells": [
  {
   "cell_type": "markdown",
   "metadata": {},
   "source": [
    "## Lab 2 Exercise 1\n",
    "#### A teacher named Mrs. Rivera who loved making math fun for her students. One day, a student named Mia asked how to calculate powers, like (2^7). Mrs. Rivera explained, “Imagine you need to multiply 2 by itself seven times. We can solve this using a python code utilizing  special method called recursion to solve this,” \n",
    "### Can you help the class of Mrs. Rivera by providing the recursive method to calculate powers?"
   ]
  },
  {
   "cell_type": "code",
   "execution_count": null,
   "metadata": {},
   "outputs": [],
   "source": [
    "def multiplier(base, exponent):\n",
    "    if exponent == 0:\n",
    "        return 1\n",
    "    elif exponent < 0:\n",
    "        return 1/(base * multiplier(base, (exponent*-1) - 1))\n",
    "    else:\n",
    "        return base * multiplier(base, exponent - 1)\n",
    "\n",
    "while True:\n",
    "    try:\n",
    "        base = float(input(\"Enter the base: \"))\n",
    "        if base - int(base) == 0:\n",
    "            base = int(base)\n",
    "        break\n",
    "    except ValueError:\n",
    "        print(\"Error: Base must be a number.\")\n",
    "\n",
    "while True:\n",
    "    try:\n",
    "        exponent = int(input(\"Enter the exponent: \"))\n",
    "        break\n",
    "    except ValueError:\n",
    "        print(\"Error: Exponent must be integer.\")\n",
    "\n",
    "print(f\"{base}^{exponent}\")\n",
    "answer = multiplier(base, exponent)\n",
    "print(answer)"
   ]
  }
 ],
 "metadata": {
  "kernelspec": {
   "display_name": "Python 3",
   "language": "python",
   "name": "python3"
  },
  "language_info": {
   "codemirror_mode": {
    "name": "ipython",
    "version": 3
   },
   "file_extension": ".py",
   "mimetype": "text/x-python",
   "name": "python",
   "nbconvert_exporter": "python",
   "pygments_lexer": "ipython3",
   "version": "3.12.0"
  }
 },
 "nbformat": 4,
 "nbformat_minor": 2
}
